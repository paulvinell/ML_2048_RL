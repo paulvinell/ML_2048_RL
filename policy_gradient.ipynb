{
 "cells": [
  {
   "cell_type": "markdown",
   "metadata": {},
   "source": [
    "# Policy Gradient in 2048\n",
    "This model plays 2048 and uses the following strategy:\n",
    "1. Play n games\n",
    "2. Calculate mean fitness function score\n",
    "3.\n",
    "    * Optimize the loss for the games with an above average fitness score (assume that every action at every state was correct).\n",
    "    * Optimize the negative of the loss for the games with a below average fitness score (assume that every action at every state was incorrect).\n",
    "4. Repeat."
   ]
  },
  {
   "cell_type": "markdown",
   "metadata": {},
   "source": [
    "# Game imports\n",
    "This is made slightly more complicated than it has to be, because the target folder has characters that are disallowed in python packages."
   ]
  },
  {
   "cell_type": "code",
   "execution_count": 39,
   "metadata": {},
   "outputs": [],
   "source": [
    "import os \n",
    "dir_path = os.path.abspath('')\n",
    "dir_path = os.path.join(dir_path, '2048-python-custom-player')\n",
    "\n",
    "import sys\n",
    "sys.path.insert(0, dir_path)\n",
    "\n",
    "import constants as c\n",
    "from tie_in import TieIn # Used to launch a game of 2048"
   ]
  },
  {
   "cell_type": "markdown",
   "metadata": {},
   "source": [
    "## Set game constants"
   ]
  },
  {
   "cell_type": "code",
   "execution_count": 40,
   "metadata": {},
   "outputs": [],
   "source": [
    "c.GRID_LEN_X = 3\n",
    "c.GRID_LEN_Y = 3\n",
    "#c.PROBABILITY_4 = 0"
   ]
  },
  {
   "cell_type": "markdown",
   "metadata": {},
   "source": [
    "# The model"
   ]
  },
  {
   "cell_type": "markdown",
   "metadata": {},
   "source": [
    "### Imports"
   ]
  },
  {
   "cell_type": "code",
   "execution_count": 28,
   "metadata": {
    "scrolled": true
   },
   "outputs": [],
   "source": [
    "import tensorflow as tf\n",
    "import tensorflow.keras as keras\n",
    "\n",
    "from tensorflow.keras import Sequential\n",
    "from tensorflow.keras.layers import Conv2D, Dense"
   ]
  },
  {
   "cell_type": "markdown",
   "metadata": {},
   "source": [
    "### Clear previous models from memory (if needed)"
   ]
  },
  {
   "cell_type": "code",
   "execution_count": 29,
   "metadata": {},
   "outputs": [],
   "source": [
    "keras.backend.clear_session()"
   ]
  },
  {
   "cell_type": "markdown",
   "metadata": {},
   "source": [
    "## Instantiate the model"
   ]
  },
  {
   "cell_type": "code",
   "execution_count": 30,
   "metadata": {},
   "outputs": [
    {
     "name": "stdout",
     "output_type": "stream",
     "text": [
      "Model: \"sequential\"\n",
      "_________________________________________________________________\n",
      "Layer (type)                 Output Shape              Param #   \n",
      "=================================================================\n",
      "conv2d (Conv2D)              (None, 2, 2, 32)          160       \n",
      "_________________________________________________________________\n",
      "conv2d_1 (Conv2D)            (None, 1, 1, 64)          8256      \n",
      "_________________________________________________________________\n",
      "dense (Dense)                (None, 1, 1, 4)           260       \n",
      "=================================================================\n",
      "Total params: 8,676\n",
      "Trainable params: 8,676\n",
      "Non-trainable params: 0\n",
      "_________________________________________________________________\n"
     ]
    }
   ],
   "source": [
    "model = Sequential([Conv2D(32, kernel_size=2, input_shape=(c.GRID_LEN_X, c.GRID_LEN_Y, 1)),\n",
    "                    #Conv2D(32, kernel_size=2),\n",
    "                    Conv2D(64, kernel_size=2),\n",
    "                    Dense(4, activation='softmax')])\n",
    "\n",
    "#model.compile(loss=keras.losses.CategoricalCrossentropy(from_logits=False), optimizer=keras.optimizers.Adam())\n",
    "model.summary()"
   ]
  },
  {
   "cell_type": "markdown",
   "metadata": {},
   "source": [
    "# Preprocessing\n",
    "Because the growth rate of the tiles in 2048 is exponential, we take log2 of all values, since linearly scaling values are more manageable. We also squish the values to be smaller in scale. For instance, 2 maps to 0.1, 1024 to 1, 8192 to 1.3, and 0 to 0."
   ]
  },
  {
   "cell_type": "code",
   "execution_count": 31,
   "metadata": {},
   "outputs": [],
   "source": [
    "import numpy as np\n",
    "\n",
    "def preprocess(matrix):\n",
    "    non_zeros = np.nonzero(matrix)\n",
    "    matrix[non_zeros] = np.log2(matrix[non_zeros]) / np.log2(1024)\n",
    "    return matrix\n",
    "\n",
    "def one_hot(moves):\n",
    "    move_count = moves.shape[0]\n",
    "    oh = np.zeros((move_count, 4))\n",
    "    oh[np.arange(move_count), moves] = 1\n",
    "    return oh"
   ]
  },
  {
   "cell_type": "markdown",
   "metadata": {},
   "source": [
    "## Data augmentation\n",
    "Because of rotational symmetry, each game of 2048 corresponds to another set of three games (at least for square games). If we accept a move in one of the games as valid, then state and action's corresponding rotations must be equally valid. We use this argument to create more artificial games. Hopefully, this will also prevent a collapse in strategy where the model favors one corner."
   ]
  },
  {
   "cell_type": "code",
   "execution_count": 32,
   "metadata": {},
   "outputs": [],
   "source": [
    "move_rotation_lookup = { 0: 2, 1: 3, 2: 1, 3: 0} # UP->LEFT, DOWN->RIGHT, LEFT->DOWN, RIGHT->UP\n",
    "def rotate_90_moves(moves):\n",
    "    move_count = moves.shape[0]\n",
    "    rot = np.zeros(moves.shape)\n",
    "    for i in range(move_count): # TODO: this is likely an inefficient way to implement this\n",
    "        rot[i] = move_rotation_lookup[rot[i]]\n",
    "    return rot.astype(int)\n",
    "\n",
    "def rotate_90_board(boards):\n",
    "    return np.rot90(boards, axes=(1, 2))"
   ]
  },
  {
   "cell_type": "markdown",
   "metadata": {},
   "source": [
    "# Create a custom player"
   ]
  },
  {
   "cell_type": "code",
   "execution_count": 33,
   "metadata": {},
   "outputs": [],
   "source": [
    "class ModelPlayer():\n",
    "    def __init__(self, model):\n",
    "        self.model = model\n",
    "        self.game_final = None # Contains the last state of the game\n",
    "        self.last_turn = -1\n",
    "    \n",
    "    def game_grid_init(self, game_grid):\n",
    "        pass\n",
    "\n",
    "    # TODO: maybe randomly pick a move, basing the probabilities on the softmax?\n",
    "    def play(self, game):\n",
    "        if game.move_count > self.last_turn:\n",
    "            self.last_turn = game.move_count\n",
    "        else:\n",
    "            print(\"ModelPlayer: stuck on turn {}\".format(game.move_count))\n",
    "            breakpoint()\n",
    "        \n",
    "        possible_directions = game.possible_directions()\n",
    "        possible_directions = np.array(possible_directions)\n",
    "        \n",
    "        model_input = np.array(game.matrix)\n",
    "        model_input = np.expand_dims(model_input, axis=-1) # Number of channels (1)\n",
    "        model_input = np.expand_dims(model_input, axis=0) # Batch dimension\n",
    "        \n",
    "        model_output = self.model.predict(model_input)\n",
    "        model_output = np.squeeze(model_output)\n",
    "        \n",
    "        model_mask = np.zeros(4)\n",
    "        model_mask[possible_directions] = 1\n",
    "        model_output *= model_mask # Only select from possible moves\n",
    "        \n",
    "        # Pick a move randomly based on how strongly the model suggests it\n",
    "        model_output_sum = np.sum(model_output)\n",
    "        \n",
    "        response = None\n",
    "        if model_output_sum > 0:\n",
    "            model_output_cumulative = np.cumsum(model_output) / np.sum(model_output)\n",
    "            cutoff_point = np.random.rand()\n",
    "            response = model_output_cumulative.searchsorted(cutoff_point)\n",
    "        \n",
    "        # response = np.argmax(model_output) # Picks the strongest response\n",
    "        if model_output_sum <= 0 or response is None or not np.any(possible_directions == response): # If we for any reason have picked an impossible move\n",
    "            response = np.random.choice(possible_directions) # Choose one of the possible ones at randoma\n",
    "        \n",
    "        return response\n",
    "    \n",
    "    def sleep(self, game, render):\n",
    "        if not render:\n",
    "            return 0 # Don't sleep when training\n",
    "\n",
    "        return np.log2(game.max_tile) / 30 # Go slower when it gets interesting\n",
    "    \n",
    "    def lost(self, game):\n",
    "        self.game_final = game"
   ]
  },
  {
   "cell_type": "markdown",
   "metadata": {},
   "source": [
    "# Training"
   ]
  },
  {
   "cell_type": "markdown",
   "metadata": {},
   "source": [
    "## Custom training step"
   ]
  },
  {
   "cell_type": "code",
   "execution_count": 34,
   "metadata": {},
   "outputs": [],
   "source": [
    "loss_fn = keras.losses.CategoricalCrossentropy(from_logits=False)\n",
    "optimizer = keras.optimizers.Adam()\n",
    "\n",
    "#@tf.function\n",
    "def train_step(model, X, Y, punish=False):\n",
    "    with tf.GradientTape() as tape:\n",
    "        out = model(X, training=True)\n",
    "        out = tf.squeeze(out)\n",
    "        loss_val = loss_fn(Y, out)\n",
    "        if punish:\n",
    "            loss_val *= -1\n",
    "            \n",
    "    grads = tape.gradient(loss_val, model.trainable_weights)\n",
    "    optimizer.apply_gradients(zip(grads, model.trainable_weights))"
   ]
  },
  {
   "cell_type": "code",
   "execution_count": 35,
   "metadata": {},
   "outputs": [],
   "source": [
    "def fitness_function(game):\n",
    "    return game.move_count + game.max_tile"
   ]
  },
  {
   "cell_type": "markdown",
   "metadata": {},
   "source": [
    "## Training procedure"
   ]
  },
  {
   "cell_type": "markdown",
   "metadata": {},
   "source": [
    "### Constants"
   ]
  },
  {
   "cell_type": "code",
   "execution_count": 37,
   "metadata": {},
   "outputs": [],
   "source": [
    "EPOCHS = 100\n",
    "BATCH_SIZE = 8\n",
    "PRINT_INTERVALS = 10 # Number of seconds between progress update (minimum)"
   ]
  },
  {
   "cell_type": "markdown",
   "metadata": {},
   "source": [
    "### The actual loop"
   ]
  },
  {
   "cell_type": "code",
   "execution_count": 41,
   "metadata": {
    "scrolled": true
   },
   "outputs": [
    {
     "name": "stdout",
     "output_type": "stream",
     "text": [
      "Starting the training process.\n",
      "Status: Epoch 1: Mean fitness: 53.875, Move count: 31.875, Max tile: 22.0\n",
      "Status: Epoch 2: Mean fitness: 58.0, Move count: 34.0, Max tile: 24.0\n",
      "Status: Epoch 3: Mean fitness: 72.5, Move count: 38.5, Max tile: 34.0\n",
      "Status: Epoch 4: Mean fitness: 64.75, Move count: 36.75, Max tile: 28.0\n",
      "Status: Epoch 5: Mean fitness: 53.0, Move count: 30.0, Max tile: 23.0\n",
      "Status: Epoch 6: Mean fitness: 69.5, Move count: 37.5, Max tile: 32.0\n",
      "Playing: Processed: 8/8 in batch, 7/100 epochs.\n",
      "Status: Epoch 7: Mean fitness: 78.125, Move count: 42.125, Max tile: 36.0\n",
      "Playing: Processed: 8/8 in batch, 8/100 epochs.\n",
      "Status: Epoch 8: Mean fitness: 68.875, Move count: 38.875, Max tile: 30.0\n",
      "Playing: Processed: 8/8 in batch, 9/100 epochs.\n",
      "Status: Epoch 9: Mean fitness: 61.875, Move count: 33.875, Max tile: 28.0\n",
      "Playing: Processed: 7/8 in batch, 10/100 epochs.\n",
      "Status: Epoch 10: Mean fitness: 72.625, Move count: 38.625, Max tile: 34.0\n",
      "Playing: Processed: 5/8 in batch, 11/100 epochs.\n",
      "Status: Epoch 11: Mean fitness: 78.125, Move count: 42.125, Max tile: 36.0\n",
      "Status: Epoch 12: Mean fitness: 56.875, Move count: 32.875, Max tile: 24.0\n",
      "Playing: Processed: 6/8 in batch, 13/100 epochs.\n",
      "Status: Epoch 13: Mean fitness: 82.375, Move count: 44.375, Max tile: 38.0\n",
      "Playing: Processed: 7/8 in batch, 14/100 epochs.\n",
      "Status: Epoch 14: Mean fitness: 79.25, Move count: 43.25, Max tile: 36.0\n",
      "Status: Epoch 15: Mean fitness: 60.5, Move count: 33.5, Max tile: 27.0\n",
      "Playing: Processed: 8/8 in batch, 16/100 epochs.\n",
      "Status: Epoch 16: Mean fitness: 74.25, Move count: 40.25, Max tile: 34.0\n",
      "Playing: Processed: 6/8 in batch, 17/100 epochs.\n",
      "Status: Epoch 17: Mean fitness: 98.875, Move count: 52.875, Max tile: 46.0\n",
      "Playing: Processed: 8/8 in batch, 18/100 epochs.\n",
      "Status: Epoch 18: Mean fitness: 75.5, Move count: 41.5, Max tile: 34.0\n",
      "Status: Epoch 19: Mean fitness: 64.25, Move count: 37.25, Max tile: 27.0\n",
      "Status: Epoch 20: Mean fitness: 70.125, Move count: 38.125, Max tile: 32.0\n",
      "Status: Epoch 21: Mean fitness: 72.75, Move count: 38.75, Max tile: 34.0\n",
      "Playing: Processed: 7/8 in batch, 22/100 epochs.\n",
      "Status: Epoch 22: Mean fitness: 95.375, Move count: 51.375, Max tile: 44.0\n",
      "Playing: Processed: 8/8 in batch, 23/100 epochs.\n",
      "Status: Epoch 23: Mean fitness: 74.75, Move count: 40.75, Max tile: 34.0\n",
      "Playing: Processed: 6/8 in batch, 24/100 epochs.\n",
      "Status: Epoch 24: Mean fitness: 92.625, Move count: 50.625, Max tile: 42.0\n",
      "Playing: Processed: 8/8 in batch, 25/100 epochs.\n",
      "Status: Epoch 25: Mean fitness: 74.125, Move count: 42.125, Max tile: 32.0\n",
      "Playing: Processed: 8/8 in batch, 26/100 epochs.\n",
      "Status: Epoch 26: Mean fitness: 72.25, Move count: 42.25, Max tile: 30.0\n",
      "Playing: Processed: 7/8 in batch, 27/100 epochs.\n",
      "Status: Epoch 27: Mean fitness: 91.5, Move count: 49.5, Max tile: 42.0\n",
      "Playing: Processed: 8/8 in batch, 28/100 epochs.\n",
      "Status: Epoch 28: Mean fitness: 82.75, Move count: 42.75, Max tile: 40.0\n",
      "Playing: Processed: 7/8 in batch, 29/100 epochs.\n",
      "Status: Epoch 29: Mean fitness: 89.25, Move count: 49.25, Max tile: 40.0\n",
      "Playing: Processed: 8/8 in batch, 30/100 epochs.\n",
      "Status: Epoch 30: Mean fitness: 73.125, Move count: 40.125, Max tile: 33.0\n",
      "Playing: Processed: 8/8 in batch, 31/100 epochs.\n",
      "Status: Epoch 31: Mean fitness: 74.25, Move count: 41.25, Max tile: 33.0\n",
      "Status: Epoch 32: Mean fitness: 68.0, Move count: 36.0, Max tile: 32.0\n",
      "Playing: Processed: 8/8 in batch, 33/100 epochs.\n",
      "Status: Epoch 33: Mean fitness: 75.875, Move count: 38.875, Max tile: 37.0\n",
      "Playing: Processed: 8/8 in batch, 34/100 epochs.\n",
      "Status: Epoch 34: Mean fitness: 73.75, Move count: 39.75, Max tile: 34.0\n",
      "Playing: Processed: 7/8 in batch, 35/100 epochs.\n",
      "Status: Epoch 35: Mean fitness: 86.125, Move count: 46.125, Max tile: 40.0\n",
      "Playing: Processed: 8/8 in batch, 36/100 epochs.\n",
      "Status: Epoch 36: Mean fitness: 82.0, Move count: 42.0, Max tile: 40.0\n",
      "Playing: Processed: 8/8 in batch, 37/100 epochs.\n",
      "Status: Epoch 37: Mean fitness: 69.75, Move count: 39.75, Max tile: 30.0\n",
      "Playing: Processed: 7/8 in batch, 38/100 epochs.\n",
      "Status: Epoch 38: Mean fitness: 79.375, Move count: 43.375, Max tile: 36.0\n",
      "Playing: Processed: 8/8 in batch, 39/100 epochs.\n",
      "Status: Epoch 39: Mean fitness: 72.875, Move count: 38.875, Max tile: 34.0\n",
      "Status: Epoch 40: Mean fitness: 54.625, Move count: 30.625, Max tile: 24.0\n",
      "Playing: Processed: 8/8 in batch, 41/100 epochs.\n",
      "Status: Epoch 41: Mean fitness: 79.5, Move count: 41.5, Max tile: 38.0\n",
      "Playing: Processed: 8/8 in batch, 42/100 epochs.\n",
      "Status: Epoch 42: Mean fitness: 71.25, Move count: 40.25, Max tile: 31.0\n",
      "Playing: Processed: 7/8 in batch, 43/100 epochs.\n",
      "Status: Epoch 43: Mean fitness: 110.875, Move count: 56.875, Max tile: 54.0\n",
      "Status: Epoch 44: Mean fitness: 65.875, Move count: 35.875, Max tile: 30.0\n",
      "Status: Epoch 45: Mean fitness: 66.5, Move count: 37.5, Max tile: 29.0\n",
      "Playing: Processed: 8/8 in batch, 46/100 epochs.\n",
      "Status: Epoch 46: Mean fitness: 74.875, Move count: 40.875, Max tile: 34.0\n",
      "Status: Epoch 47: Mean fitness: 67.0, Move count: 37.0, Max tile: 30.0\n",
      "Playing: Processed: 8/8 in batch, 48/100 epochs.\n",
      "Status: Epoch 48: Mean fitness: 74.5, Move count: 40.5, Max tile: 34.0\n",
      "Playing: Processed: 8/8 in batch, 49/100 epochs.\n",
      "Status: Epoch 49: Mean fitness: 82.625, Move count: 44.625, Max tile: 38.0\n",
      "Status: Epoch 50: Mean fitness: 55.5, Move count: 32.5, Max tile: 23.0\n",
      "Status: Epoch 51: Mean fitness: 58.0, Move count: 34.0, Max tile: 24.0\n",
      "Playing: Processed: 8/8 in batch, 52/100 epochs.\n",
      "Status: Epoch 52: Mean fitness: 78.25, Move count: 42.25, Max tile: 36.0\n",
      "Status: Epoch 53: Mean fitness: 66.125, Move count: 36.125, Max tile: 30.0\n",
      "Playing: Processed: 8/8 in batch, 54/100 epochs.\n",
      "Status: Epoch 54: Mean fitness: 73.125, Move count: 40.125, Max tile: 33.0\n",
      "Playing: Processed: 8/8 in batch, 55/100 epochs.\n",
      "Status: Epoch 55: Mean fitness: 70.75, Move count: 39.75, Max tile: 31.0\n",
      "Playing: Processed: 8/8 in batch, 56/100 epochs.\n",
      "Status: Epoch 56: Mean fitness: 80.125, Move count: 44.125, Max tile: 36.0\n",
      "Status: Epoch 57: Mean fitness: 69.125, Move count: 38.125, Max tile: 31.0\n",
      "Playing: Processed: 8/8 in batch, 58/100 epochs.\n",
      "Status: Epoch 58: Mean fitness: 73.625, Move count: 39.625, Max tile: 34.0\n",
      "Playing: Processed: 8/8 in batch, 59/100 epochs.\n",
      "Status: Epoch 59: Mean fitness: 80.0, Move count: 42.0, Max tile: 38.0\n",
      "Playing: Processed: 8/8 in batch, 60/100 epochs.\n",
      "Status: Epoch 60: Mean fitness: 75.0, Move count: 41.0, Max tile: 34.0\n",
      "Playing: Processed: 8/8 in batch, 61/100 epochs.\n",
      "Status: Epoch 61: Mean fitness: 71.875, Move count: 39.875, Max tile: 32.0\n",
      "Playing: Processed: 8/8 in batch, 62/100 epochs.\n",
      "Status: Epoch 62: Mean fitness: 80.625, Move count: 43.625, Max tile: 37.0\n",
      "Playing: Processed: 8/8 in batch, 63/100 epochs.\n",
      "Status: Epoch 63: Mean fitness: 74.625, Move count: 42.625, Max tile: 32.0\n",
      "Playing: Processed: 7/8 in batch, 64/100 epochs.\n",
      "Status: Epoch 64: Mean fitness: 92.25, Move count: 50.25, Max tile: 42.0\n",
      "Playing: Processed: 8/8 in batch, 65/100 epochs.\n",
      "Status: Epoch 65: Mean fitness: 72.875, Move count: 38.875, Max tile: 34.0\n",
      "Status: Epoch 66: Mean fitness: 60.25, Move count: 33.25, Max tile: 27.0\n",
      "Playing: Processed: 6/8 in batch, 67/100 epochs.\n",
      "Status: Epoch 67: Mean fitness: 91.0, Move count: 46.5, Max tile: 44.5\n",
      "Playing: Processed: 8/8 in batch, 68/100 epochs.\n",
      "Status: Epoch 68: Mean fitness: 74.125, Move count: 39.125, Max tile: 35.0\n",
      "Playing: Processed: 8/8 in batch, 69/100 epochs.\n",
      "Status: Epoch 69: Mean fitness: 71.125, Move count: 40.125, Max tile: 31.0\n",
      "Status: Epoch 70: Mean fitness: 63.75, Move count: 36.75, Max tile: 27.0\n",
      "Playing: Processed: 8/8 in batch, 71/100 epochs.\n",
      "Status: Epoch 71: Mean fitness: 73.375, Move count: 41.375, Max tile: 32.0\n",
      "Playing: Processed: 8/8 in batch, 72/100 epochs.\n",
      "Status: Epoch 72: Mean fitness: 82.0, Move count: 42.0, Max tile: 40.0\n",
      "Playing: Processed: 8/8 in batch, 73/100 epochs.\n",
      "Status: Epoch 73: Mean fitness: 72.5, Move count: 40.5, Max tile: 32.0\n",
      "Status: Epoch 74: Mean fitness: 62.375, Move count: 36.375, Max tile: 26.0\n",
      "Playing: Processed: 8/8 in batch, 75/100 epochs.\n",
      "Status: Epoch 75: Mean fitness: 83.625, Move count: 45.625, Max tile: 38.0\n",
      "Status: Epoch 76: Mean fitness: 54.5, Move count: 31.0, Max tile: 23.5\n",
      "Playing: Processed: 7/8 in batch, 77/100 epochs.\n"
     ]
    },
    {
     "name": "stdout",
     "output_type": "stream",
     "text": [
      "Status: Epoch 77: Mean fitness: 97.375, Move count: 49.375, Max tile: 48.0\n",
      "Status: Epoch 78: Mean fitness: 52.5, Move count: 29.5, Max tile: 23.0\n",
      "Status: Epoch 79: Mean fitness: 60.25, Move count: 35.25, Max tile: 25.0\n",
      "Playing: Processed: 7/8 in batch, 80/100 epochs.\n",
      "Status: Epoch 80: Mean fitness: 83.0, Move count: 45.0, Max tile: 38.0\n",
      "Status: Epoch 81: Mean fitness: 56.0, Move count: 33.0, Max tile: 23.0\n",
      "Playing: Processed: 8/8 in batch, 82/100 epochs.\n",
      "Status: Epoch 82: Mean fitness: 71.0, Move count: 39.0, Max tile: 32.0\n",
      "Playing: Processed: 8/8 in batch, 83/100 epochs.\n",
      "Status: Epoch 83: Mean fitness: 70.875, Move count: 40.875, Max tile: 30.0\n",
      "Status: Epoch 84: Mean fitness: 67.125, Move count: 37.125, Max tile: 30.0\n",
      "Playing: Processed: 8/8 in batch, 85/100 epochs.\n",
      "Status: Epoch 85: Mean fitness: 72.625, Move count: 40.625, Max tile: 32.0\n",
      "Status: Epoch 86: Mean fitness: 52.625, Move count: 29.625, Max tile: 23.0\n",
      "Playing: Processed: 5/8 in batch, 87/100 epochs.\n",
      "Status: Epoch 87: Mean fitness: 109.125, Move count: 54.125, Max tile: 55.0\n",
      "Status: Epoch 88: Mean fitness: 60.125, Move count: 34.125, Max tile: 26.0\n",
      "Playing: Processed: 7/8 in batch, 89/100 epochs.\n",
      "Status: Epoch 89: Mean fitness: 82.5, Move count: 44.5, Max tile: 38.0\n",
      "Playing: Processed: 8/8 in batch, 90/100 epochs.\n",
      "Status: Epoch 90: Mean fitness: 69.0, Move count: 40.0, Max tile: 29.0\n",
      "Playing: Processed: 8/8 in batch, 91/100 epochs.\n",
      "Status: Epoch 91: Mean fitness: 72.875, Move count: 40.875, Max tile: 32.0\n",
      "Playing: Processed: 8/8 in batch, 92/100 epochs.\n",
      "Status: Epoch 92: Mean fitness: 82.0, Move count: 43.0, Max tile: 39.0\n",
      "Playing: Processed: 8/8 in batch, 93/100 epochs.\n",
      "Status: Epoch 93: Mean fitness: 77.5, Move count: 41.5, Max tile: 36.0\n",
      "Status: Epoch 94: Mean fitness: 70.75, Move count: 38.75, Max tile: 32.0\n",
      "Playing: Processed: 8/8 in batch, 95/100 epochs.\n",
      "Status: Epoch 95: Mean fitness: 77.5, Move count: 38.5, Max tile: 39.0\n",
      "Status: Epoch 96: Mean fitness: 65.375, Move count: 35.375, Max tile: 30.0\n",
      "Status: Epoch 97: Mean fitness: 63.375, Move count: 35.375, Max tile: 28.0\n",
      "Playing: Processed: 8/8 in batch, 98/100 epochs.\n",
      "Status: Epoch 98: Mean fitness: 74.25, Move count: 40.25, Max tile: 34.0\n",
      "Playing: Processed: 8/8 in batch, 99/100 epochs.\n",
      "Status: Epoch 99: Mean fitness: 80.125, Move count: 39.625, Max tile: 40.5\n",
      "Playing: Processed: 8/8 in batch, 100/100 epochs.\n",
      "Status: Epoch 100: Mean fitness: 84.25, Move count: 46.25, Max tile: 38.0\n"
     ]
    }
   ],
   "source": [
    "import time\n",
    "import multiprocessing\n",
    "from functools import reduce\n",
    "\n",
    "last_print_time = time.time()\n",
    "history_fitness = []\n",
    "history_move_count = []\n",
    "history_max_tile = []\n",
    "\n",
    "print(\"Starting the training process.\")\n",
    "for epoch in range(1, EPOCHS + 1):\n",
    "    games = []\n",
    "    \n",
    "    for i in range(BATCH_SIZE):\n",
    "        model_player = ModelPlayer(model)\n",
    "        ti = TieIn(model_player, render=False, log_history=True)\n",
    "        ti.start()\n",
    "        games.append(model_player.game_final)\n",
    "        \n",
    "        cur_time = time.time()\n",
    "        if cur_time - last_print_time >= PRINT_INTERVALS:\n",
    "            print(\"Playing: Processed: {}/{} in batch, {}/{} epochs.\".format(i+1, BATCH_SIZE, epoch, EPOCHS))\n",
    "            last_print_time = cur_time\n",
    "            \n",
    "    batch_mean_fitness = map(lambda g: fitness_function(g), games)\n",
    "    batch_mean_fitness = reduce(lambda sum_g, g: sum_g + g, batch_mean_fitness)\n",
    "    batch_mean_fitness = float(batch_mean_fitness) / BATCH_SIZE\n",
    "    \n",
    "    batch_mean_move_count = map(lambda g: g.move_count, games)\n",
    "    batch_mean_move_count = reduce(lambda sum_g, g: sum_g + g, batch_mean_move_count)\n",
    "    batch_mean_move_count = float(batch_mean_move_count) / BATCH_SIZE\n",
    "    \n",
    "    batch_mean_max_tile = map(lambda g: g.max_tile, games)\n",
    "    batch_mean_max_tile = reduce(lambda sum_g, g: sum_g + g, batch_mean_max_tile)\n",
    "    batch_mean_max_tile = float(batch_mean_max_tile) / BATCH_SIZE\n",
    "    \n",
    "    print(\"Status: Epoch {}: Mean fitness: {}, Move count: {}, Max tile: {}\".format(epoch, batch_mean_fitness, batch_mean_move_count, batch_mean_max_tile))\n",
    "    last_print_time = time.time()\n",
    "    history_fitness.append(batch_mean_fitness)\n",
    "    history_move_count.append(batch_mean_move_count)\n",
    "    history_max_tile.append(batch_mean_max_tile)\n",
    "    \n",
    "    good_games = filter(lambda g: fitness_function(g) >= batch_mean_fitness, games)\n",
    "    bad_games = filter(lambda g: fitness_function(g) < batch_mean_fitness, games)\n",
    "    \n",
    "    processed_count = 0\n",
    "    \n",
    "    for g in good_games:\n",
    "        X_base = np.array(g.board_history)\n",
    "        X_base = preprocess(X_base)\n",
    "        y_base = np.array(g.move_history) # Sparse encoding\n",
    "        \n",
    "        for rot in range(4):\n",
    "            X = X_base[..., np.newaxis] # Same as expand_dims(X, axis=-1)\n",
    "            Y = one_hot(y_base) # One-hot encoding\n",
    "\n",
    "            train_step(model, X, Y, punish=False)\n",
    "            \n",
    "            if rot < 3:\n",
    "                X_base = rotate_90_board(X_base)\n",
    "                y_base = rotate_90_moves(y_base)\n",
    "\n",
    "            if cur_time - last_print_time >= PRINT_INTERVALS:\n",
    "                print(\"Training: Processed: {}/{} in batch, {}/{} epochs.\".format(processed_count, BATCH_SIZE, epoch, EPOCHS))\n",
    "                last_print_time = cur_time\n",
    "        \n",
    "    for g in bad_games:\n",
    "        X_base = np.array(g.board_history)\n",
    "        X_base = preprocess(X_base)\n",
    "        y_base = np.array(g.move_history) # Sparse encoding\n",
    "        \n",
    "        for rot in range(4):\n",
    "            X = X_base[..., np.newaxis] # Same as expand_dims(X, axis=-1)\n",
    "            Y = one_hot(y_base) # One-hot encoding\n",
    "\n",
    "            train_step(model, X, Y, punish=True)\n",
    "            \n",
    "            if rot < 3:\n",
    "                X_base = rotate_90_board(X_base)\n",
    "                y_base = rotate_90_moves(y_base)\n",
    "\n",
    "            if cur_time - last_print_time >= PRINT_INTERVALS:\n",
    "                print(\"Training: Processed: {}/{} in batch, {}/{} epochs.\".format(processed_count, BATCH_SIZE, epoch, EPOCHS))\n",
    "                last_print_time = cur_time"
   ]
  },
  {
   "cell_type": "markdown",
   "metadata": {},
   "source": [
    "# Save the model and training history"
   ]
  },
  {
   "cell_type": "code",
   "execution_count": 20,
   "metadata": {},
   "outputs": [],
   "source": [
    "import pickle\n",
    "\n",
    "model.save('policy_gradient.h5')\n",
    "\n",
    "\n",
    "policy_gradient_history = { 'history_fitness': history_fitness,\n",
    "                           'history_move_count': history_move_count,\n",
    "                           'history_max_tile': history_max_tile }\n",
    "file = open('policy_gradient_history.pickle', 'wb')\n",
    "pickle.dump(policy_gradient_history, file)\n",
    "file.close()"
   ]
  },
  {
   "cell_type": "markdown",
   "metadata": {},
   "source": [
    "# Load the model"
   ]
  },
  {
   "cell_type": "code",
   "execution_count": 21,
   "metadata": {},
   "outputs": [
    {
     "name": "stdout",
     "output_type": "stream",
     "text": [
      "WARNING:tensorflow:No training configuration found in the save file, so the model was *not* compiled. Compile it manually.\n"
     ]
    }
   ],
   "source": [
    "model = tf.keras.models.load_model('policy_gradient.h5')"
   ]
  },
  {
   "cell_type": "markdown",
   "metadata": {},
   "source": [
    "# Test the model"
   ]
  },
  {
   "cell_type": "code",
   "execution_count": 23,
   "metadata": {},
   "outputs": [],
   "source": [
    "model_player = ModelPlayer(model)\n",
    "ti = TieIn(model_player, render=True, log_history=False)\n",
    "ti.start()"
   ]
  },
  {
   "cell_type": "code",
   "execution_count": null,
   "metadata": {},
   "outputs": [],
   "source": []
  }
 ],
 "metadata": {
  "kernelspec": {
   "display_name": "Python 3",
   "language": "python",
   "name": "python3"
  },
  "language_info": {
   "codemirror_mode": {
    "name": "ipython",
    "version": 3
   },
   "file_extension": ".py",
   "mimetype": "text/x-python",
   "name": "python",
   "nbconvert_exporter": "python",
   "pygments_lexer": "ipython3",
   "version": "3.7.9"
  }
 },
 "nbformat": 4,
 "nbformat_minor": 4
}
